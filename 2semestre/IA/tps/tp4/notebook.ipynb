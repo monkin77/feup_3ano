{
 "cells": [
  {
   "cell_type": "code",
   "execution_count": 5,
   "metadata": {},
   "outputs": [],
   "source": [
    "import numpy as np\n",
    "import matplotlib.pyplot as plt\n",
    "import copy\n",
    "import random\n",
    "\n",
    "slots = 4\n",
    "disc = 12\n",
    "std = 12\n",
    "\n",
    "distr = np.array([[1,2,3,4,5],\n",
    "                 [6,7,8,9],\n",
    "                 [10,11,12],\n",
    "                 [1,2,3,4],\n",
    "                 [5,6,7,8],\n",
    "                 [9,10,11,12],\n",
    "                 [1,2,3,5],\n",
    "                 [6,7,8],\n",
    "                 [4,9,10,11,12],\n",
    "                 [1,2,4,5],\n",
    "                 [3,6,7,8],\n",
    "                 [9,10,11,12]],dtype=object)\n",
    "\n",
    "def enroled (std,disc):\n",
    "    check_disc = distr[disc]\n",
    "    if std in check_disc: return True\n",
    "    else: return False\n",
    "    \n",
    "def imcomp(d1,d2):\n",
    "    count = 0\n",
    "    for student in range (1,std+1):\n",
    "        if enroled(student,d1) and enroled(student,d2): count+=1\n",
    "    return count\n",
    "\n",
    "def evaluate(solu):\n",
    "    evals = 0\n",
    "    for d1 in range(0,disc-1):\n",
    "        for d2 in range (d1+1,disc):\n",
    "            if solu[d1] == solu[d2]:\n",
    "                evals += 1\n",
    "\n",
    "    return evals"
   ]
  },
  {
   "cell_type": "code",
   "execution_count": 6,
   "metadata": {},
   "outputs": [
    {
     "name": "stdout",
     "output_type": "stream",
     "text": [
      "   1  2  3  4  5  6  7  8  9 10 11 12\n",
      "1  5  0  0  4  1  0  4  0  1  4  1  0  \n",
      "2  0  4  0  0  3  1  0  3  1  0  3  1  \n",
      "3  0  0  3  0  0  3  0  0  3  0  0  3  \n",
      "4  4  0  0  4  0  0  3  0  1  3  1  0  \n",
      "5  1  3  0  0  4  0  1  3  0  1  3  0  \n",
      "6  0  1  3  0  0  4  0  0  4  0  0  4  \n",
      "7  4  0  0  3  1  0  4  0  0  3  1  0  \n",
      "8  0  3  0  0  3  0  0  3  0  0  3  0  \n",
      "9  1  1  3  1  0  4  0  0  5  1  0  4  \n",
      "10  4  0  0  3  1  0  3  0  1  4  0  0  \n",
      "11  1  3  0  1  3  0  1  3  0  0  4  0  \n",
      "12  0  1  3  0  0  4  0  0  4  0  0  4  \n"
     ]
    }
   ],
   "source": [
    "#Tests\n",
    "print('   1  2  3  4  5  6  7  8  9 10 11 12')\n",
    "for d1 in range(0,disc):\n",
    "        print(d1+1, end='  ')\n",
    "        for d2 in range (0,disc):\n",
    "            print(imcomp(d1,d2), end='  ')\n",
    "        print()"
   ]
  },
  {
   "cell_type": "code",
   "execution_count": 4,
   "metadata": {},
   "outputs": [],
   "source": [
    "# Increment a random's discipline slot\n",
    "def neighbor1 (solu):\n",
    "    neig = copy.deepcopy(solu)\n",
    "    randomIdx = int(random.random() * (len(solu) - 1))\n",
    "    neig[randomIdx] = (neig[randomIdx] + 1) % slots\n",
    "    return neig\n",
    "\n",
    "# switch 2 random discipline's slots\n",
    "def neighbor2(solu):\n",
    "    neig = copy.deepcopy(solu)\n",
    "    randomIdx1 = int(random.random() * (len(solu) - 1))\n",
    "    while 1:\n",
    "        randomIdx2 = int(random.random() * (len(solu) - 1))\n",
    "        if randomIdx2 != randomIdx1:\n",
    "            break\n",
    "    aux = neig[randomIdx1]\n",
    "    neig[randomIdx1] = neig[randomIdx2]\n",
    "    neig[randomIdx2] = aux\n",
    "    \n",
    "    return neig\n",
    "            \n",
    "def neighbor3 (solu):\n",
    "    if np.random.randint(0,2)==0:\n",
    "        return neighbor1(solu)\n",
    "    else:\n",
    "        return neighbor2(solu)"
   ]
  },
  {
   "cell_type": "code",
   "execution_count": 10,
   "metadata": {},
   "outputs": [
    {
     "name": "stdout",
     "output_type": "stream",
     "text": [
      "[2 1 4 1 3 2 2 2 2 2 1 2]\n",
      "[2 1 4 1 3 2 2 2 2 2 1 2] [2 1 4 1 3 2 3 2 2 2 1 2]\n",
      "[2 1 4 1 3 2 2 2 2 2 1 2] [2 1 4 1 3 2 2 1 2 2 1 2]\n",
      "[2 1 4 1 3 2 2 2 2 2 1 2] [2 1 4 2 3 2 2 2 2 2 1 2]\n",
      "[2 1 4 1 3 2 2 2 2 2 1 2] [2 3 4 1 3 2 2 2 2 2 1 2]\n",
      "[2 1 4 1 3 2 2 2 2 2 1 2] [2 1 4 1 3 3 2 2 2 2 1 2]\n",
      "[2 1 4 1 3 2 2 2 2 2 1 2] [2 1 4 1 3 2 2 2 2 2 1 3]\n",
      "[2 1 4 1 3 2 2 2 2 2 1 2] [1 1 4 1 3 2 2 2 2 2 1 2]\n",
      "[2 1 4 1 3 2 2 2 2 2 1 2] [4 1 4 1 3 2 2 2 2 2 1 2]\n",
      "[2 1 4 1 3 2 2 2 2 2 1 2] [4 1 4 1 3 2 2 2 2 2 1 2]\n",
      "[2 1 4 1 3 2 2 2 2 2 1 2] [2 1 4 1 3 2 2 1 2 2 1 2]\n",
      "[2 1 4 1 3 2 2 2 2 2 1 2]\n",
      "[2 1 4 1 3 2 2 2 2 2 1 2] [2 2 4 1 3 2 2 1 2 2 1 2]\n",
      "[2 1 4 1 3 2 2 2 2 2 1 2] [2 1 4 1 3 2 2 2 2 1 2 2]\n",
      "[2 1 4 1 3 2 2 2 2 2 1 2] [1 2 4 1 3 2 2 2 2 2 1 2]\n",
      "[2 1 4 1 3 2 2 2 2 2 1 2] [2 2 4 1 3 2 2 1 2 2 1 2]\n",
      "[2 1 4 1 3 2 2 2 2 2 1 2] [2 2 4 1 3 2 2 2 2 1 1 2]\n",
      "[2 1 4 1 3 2 2 2 2 2 1 2] [2 1 2 1 3 2 2 4 2 2 1 2]\n",
      "[2 1 4 1 3 2 2 2 2 2 1 2] [2 2 4 1 3 2 2 2 2 2 1 1]\n",
      "[2 1 4 1 3 2 2 2 2 2 1 2] [2 1 4 1 2 2 2 3 2 2 1 2]\n",
      "[2 1 4 1 3 2 2 2 2 2 1 2] [2 1 4 2 3 2 2 1 2 2 1 2]\n",
      "[2 1 4 1 3 2 2 2 2 2 1 2] [1 1 4 2 3 2 2 2 2 2 1 2]\n"
     ]
    }
   ],
   "source": [
    "#Tests\n",
    "sol=np.random.randint(1,slots+1,disc)\n",
    "print(sol)\n",
    "for d in range(1,11):\n",
    "    print(sol, neighbor1(sol))\n",
    "print(sol)\n",
    "for d in range(1,11):\n",
    "    print(sol, neighbor2(sol))"
   ]
  },
  {
   "cell_type": "code",
   "execution_count": 5,
   "metadata": {},
   "outputs": [],
   "source": [
    "def hillclimbing():\n",
    "    it = 0 ; itNoImp = 0\n",
    "    #sol = ...\n",
    "    #sol_eval = ...\n",
    "    print('initial eval',evaluate(sol))\n",
    "    while itNoImp < 10000:\n",
    "        it += 1; itNoImp += 1\n",
    "        #...\n",
    "        #print(it, ') ',sol, ' -> ', neig, ':', neig_eval )\n",
    "        if (neig_eval < sol_eval): \n",
    "            #...\n",
    "            print(it, ') Solution - ',sol, \":\", sol_eval )\n",
    "    return sol"
   ]
  },
  {
   "cell_type": "code",
   "execution_count": null,
   "metadata": {},
   "outputs": [],
   "source": []
  },
  {
   "cell_type": "code",
   "execution_count": null,
   "metadata": {},
   "outputs": [],
   "source": []
  },
  {
   "cell_type": "code",
   "execution_count": 6,
   "metadata": {},
   "outputs": [],
   "source": [
    "def simulatedAnnealing():\n",
    "    it = 0 ; itNoImp = 0\n",
    "    T = 1000\n",
    "    #...\n",
    "    while itNoImp < 10000:\n",
    "        T = T_schedule(T)\n",
    "        #...\n",
    "    return solF\n",
    "    "
   ]
  },
  {
   "cell_type": "code",
   "execution_count": 7,
   "metadata": {},
   "outputs": [],
   "source": [
    "def T_schedule(T):\n",
    "    T = 0.999*T\n",
    "    return T"
   ]
  },
  {
   "cell_type": "code",
   "execution_count": 8,
   "metadata": {},
   "outputs": [],
   "source": [
    "def initial_solution():\n",
    "    sol=np.random.randint(1,slots+1,disc)\n",
    "    #sol=[1,1,1,1,1,1,1,1,1,1,1,1]\n",
    "    #sol=[1,1,1,2,2,2,3,3,3,4,4,1]\n",
    "    #sol=[1,1,4,2,2,2,3,3,3,4,4,1]\n",
    "    #sol=[1,2,3,4,1,2,3,4,1,2,3,4]\n",
    "    #sol=[3,3,3,4,4,2,1,1,1,2,2,4]\n",
    "    return sol\n",
    "    "
   ]
  },
  {
   "cell_type": "code",
   "execution_count": 10,
   "metadata": {},
   "outputs": [
    {
     "name": "stdout",
     "output_type": "stream",
     "text": [
      "initial eval 10\n",
      "6 ) Solution -  [1 4 1 2 1 2 2 3 3 4 2 4] : 7\n",
      "17 ) Solution -  [1 4 1 4 1 2 2 3 3 4 2 4] : 6\n",
      "19 ) Solution -  [1 4 1 4 1 2 2 3 3 3 2 4] : 4\n",
      "[1 4 1 4 1 2 2 3 3 3 2 4] : 4\n"
     ]
    }
   ],
   "source": [
    "hc = hillclimbing()\n",
    "print(hc, ':', evaluate(hc))"
   ]
  },
  {
   "cell_type": "code",
   "execution_count": 13,
   "metadata": {},
   "outputs": [
    {
     "name": "stdout",
     "output_type": "stream",
     "text": [
      "4 ) Solution -  [3 1 2 1 3 2 2 2 1 4 1 4] : 10\n",
      "46 ) Solution -  [4 4 3 3 2 2 2 1 1 2 3 4] : 7\n",
      "152 ) Solution -  [2 1 1 4 4 4 3 2 3 1 3 4] : 5\n",
      "162 ) Solution -  [1 1 1 4 3 4 2 2 3 2 4 2] : 4\n",
      "565 ) Solution -  [3 2 4 1 4 3 2 1 2 4 3 1] : 3\n",
      "2692 ) Solution -  [3 3 4 1 1 2 2 2 3 4 4 1] : 2\n",
      "6856 ) Solution -  [1 4 4 2 2 1 4 1 3 3 3 2] : 1\n",
      "7046 ) Solution -  [3 3 3 4 4 2 1 1 1 2 2 4] : 0\n",
      "[3 3 3 4 4 2 1 1 1 2 2 4] : 0\n"
     ]
    }
   ],
   "source": [
    "sa = simulatedAnnealing()\n",
    "print(sa, ':', evaluate(sa))"
   ]
  },
  {
   "cell_type": "code",
   "execution_count": null,
   "metadata": {},
   "outputs": [],
   "source": []
  }
 ],
 "metadata": {
  "kernelspec": {
   "display_name": "Python 3",
   "language": "python",
   "name": "python3"
  },
  "language_info": {
   "codemirror_mode": {
    "name": "ipython",
    "version": 3
   },
   "file_extension": ".py",
   "mimetype": "text/x-python",
   "name": "python",
   "nbconvert_exporter": "python",
   "pygments_lexer": "ipython3",
   "version": "3.8.10"
  }
 },
 "nbformat": 4,
 "nbformat_minor": 4
}
